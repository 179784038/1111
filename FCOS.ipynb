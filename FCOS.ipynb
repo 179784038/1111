{
 "cells": [
  {
   "cell_type": "code",
   "execution_count": null,
   "id": "5312718f-a246-4658-b467-685d09763373",
   "metadata": {},
   "outputs": [],
   "source": [
    "import torch\n",
    "from torchvision.models.detection import fcos_resnet50_fpn,FCOS_ResNet50_FPN_Weights\n",
    "from torchvision.transforms import ToTensor\n",
    "from torchvision.datasets import VOCDetection\n",
    "from torch.utils.data import DataLoader\n",
    "import torchvision.transforms.functional as F\n",
    "import matplotlib.pyplot as plt"
   ]
  },
  {
   "cell_type": "code",
   "execution_count": null,
   "id": "e12937a0-9485-4696-8013-086eb67c2ddb",
   "metadata": {},
   "outputs": [],
   "source": [
    "# 设置训练和测试的参数\n",
    "num_classes = 21  # VOC数据集中的物体类别数量（包括背景）\n",
    "batch_size = 2\n",
    "num_epochs = 10\n",
    "\n",
    "# 加载VOC数据集\n",
    "train_dataset = VOCDetection(root='./', year='2007', image_set='train', transform=ToTensor())\n",
    "test_dataset = VOCDetection(root='./', year='2007', image_set='test', transform=ToTensor())\n",
    "\n",
    "# 创建数据加载器\n",
    "train_loader = DataLoader(train_dataset,batch_size=1)\n",
    "test_loader = DataLoader(test_dataset, batch_size=1)"
   ]
  },
  {
   "cell_type": "code",
   "execution_count": null,
   "id": "81068d35-2464-4aa1-9c4d-765781ba027c",
   "metadata": {},
   "outputs": [],
   "source": [
    "# 加载预训练的Faster R-CNN模型\n",
    "model = fcos_resnet50_fpn(weights=FCOS_ResNet50_FPN_Weights.DEFAULT)\n",
    "model.eval()"
   ]
  },
  {
   "cell_type": "code",
   "execution_count": null,
   "id": "b1d2f8f4-8a2e-4319-b6d4-3ba830e42355",
   "metadata": {},
   "outputs": [],
   "source": [
    "# 将模型移动到设备上\n",
    "device = torch.device('cuda' if torch.cuda.is_available() else 'cpu')\n",
    "model.to(device)"
   ]
  },
  {
   "cell_type": "code",
   "execution_count": null,
   "id": "d720ed89-662e-4a9d-9366-7e87373dfb95",
   "metadata": {},
   "outputs": [],
   "source": [
    "# 定义优化器和损失函数\n",
    "optimizer = torch.optim.SGD(model.parameters(), lr=0.001, momentum=0.9)\n",
    "criterion = torch.nn.CrossEntropyLoss()"
   ]
  },
  {
   "cell_type": "code",
   "execution_count": null,
   "id": "63d49008-848b-4d75-878a-77d8d4106d54",
   "metadata": {},
   "outputs": [],
   "source": [
    "# 训练模型\n",
    "for epoch in range(num_epochs):\n",
    "    model.train()\n",
    "    for images, targets in train_loader:\n",
    "        images = list(image.to(device) for image in images)\n",
    "        targets = targets.items()\n",
    "        print(targets)\n",
    "        targets = [{k: v.to(device) for k, v in t.items()} for t in targets]\n",
    "        \n",
    "\n",
    "        optimizer.zero_grad()\n",
    "        outputs = model(images, targets)\n",
    "        \n",
    "        # 计算损失\n",
    "        loss = sum(loss for loss in outputs.values())\n",
    "        \n",
    "        # 反向传播和优化\n",
    "        loss.backward()\n",
    "        optimizer.step()\n",
    "        \n",
    "    print(f\"Epoch [{epoch+1}/{num_epochs}], Loss: {loss.item():.4f}\")"
   ]
  },
  {
   "cell_type": "code",
   "execution_count": null,
   "id": "16e5a4b8-d73e-4123-99a7-503c15da4cf8",
   "metadata": {},
   "outputs": [],
   "source": [
    "# 迭代测试集并可视化proposal box\n",
    "for i, (image, target) in enumerate(test_loader):\n",
    "    images = [image.squeeze(0).to(device)]  # 将图像转移到设备上，并从大小为[1, 3, 500, 353]的张量中移除批次维度\n",
    "\n",
    "    with torch.no_grad():\n",
    "        predictions = model(images)  # 不传递目标框给模型\n",
    "\n",
    "    # 获取第一阶段的边界框\n",
    "    boxes = predictions[0]['boxes']\n",
    "\n",
    "    # 可视化图片和边界框\n",
    "    image = F.to_pil_image(image.squeeze(0).cpu())\n",
    "    plt.imshow(image)\n",
    "    ax = plt.gca()\n",
    "\n",
    "    for box in boxes:\n",
    "        xmin, ymin, xmax, ymax = box.tolist()\n",
    "        rect = plt.Rectangle((xmin, ymin), xmax - xmin, ymax - ymin, fill=False, edgecolor='r', linewidth=2)\n",
    "        ax.add_patch(rect)\n",
    "\n",
    "    plt.axis('off')\n",
    "    plt.show()\n",
    "\n",
    "    if i == 3:  # 仅可视化四张测试图像\n",
    "        break"
   ]
  },
  {
   "cell_type": "code",
   "execution_count": null,
   "id": "c3dd2ec7-96bc-412f-83dc-ebaa77899b86",
   "metadata": {},
   "outputs": [],
   "source": [
    "# 结果可视化\n",
    "import matplotlib.pyplot as plt\n",
    "def rescale(box,h,w):\n",
    "    min_side, max_side = [512,800]\n",
    "    smallest_side = min(w,h)\n",
    "    largest_side=max(w,h)\n",
    "    scale=min_side/smallest_side\n",
    "    if largest_side*scale>max_side:\n",
    "        scale=max_side/largest_side\n",
    "    box[:, [0, 2]] = box[:, [0, 2]] / scale \n",
    "    box[:, [1, 3]] = box[:, [1, 3]] / scale\n",
    "    return box\n",
    "def draw(s):\n",
    "    plt.figure()\n",
    "    c_d = {'person':'blue','cat':'red','dog':'brown'}\n",
    "    img = cv2.cvtColor(cv2.imread(f'/kaggle/input/nn-hw2-inference/{s}.jpg'),cv2.COLOR_BGR2RGB)\n",
    "    plt.imshow(img)\n",
    "    h,w = img.shape[0],img.shape[1]\n",
    "    img = preprocess_img(img,[512,800])\n",
    "    img = transforms.ToTensor()(img).unsqueeze(0)\n",
    "    with torch.no_grad():\n",
    "        out=model(img.cuda())\n",
    "    scores = out[0][0]\n",
    "    boxes = out[2][0]\n",
    "    print(boxes.shape)\n",
    "    boxes = rescale(boxes,h,w)\n",
    "    print(boxes)\n",
    "    ax = plt.gca()\n",
    "    for i in range(len(scores)):\n",
    "        if scores[i].item()>0.5:\n",
    "            box = boxes[i]\n",
    "            ax.add_patch(plt.Rectangle((box[0].item(), box[1].item()), \n",
    "                                       (box[2]-box[0]).item(), (box[3]-box[1]).item(), color=f\"{c_d[s]}\", fill=False, linewidth=1))\n",
    "            ax.text(box[0].item(), box[1].item(), f\"{s} {round(scores[i].item(),2)}\", bbox={'facecolor':f\"{c_d[s]}\", 'alpha':0.5})\n",
    "    plt.savefig(f\"/kaggle/working/{s}_fcos.jpg\")\n",
    "draw('person')\n",
    "draw('cat')\n",
    "draw('dog')"
   ]
  }
 ],
 "metadata": {
  "kernelspec": {
   "display_name": "Python 3 (ipykernel)",
   "language": "python",
   "name": "python3"
  },
  "language_info": {
   "codemirror_mode": {
    "name": "ipython",
    "version": 3
   },
   "file_extension": ".py",
   "mimetype": "text/x-python",
   "name": "python",
   "nbconvert_exporter": "python",
   "pygments_lexer": "ipython3",
   "version": "3.9.13"
  }
 },
 "nbformat": 4,
 "nbformat_minor": 5
}
