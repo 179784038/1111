{
 "cells": [
  {
   "cell_type": "code",
   "execution_count": null,
   "id": "8568b7ba-5084-4123-8d0b-f4314d6f32b7",
   "metadata": {},
   "outputs": [],
   "source": [
    "import torch\n",
    "import torchvision\n",
    "from torchvision.models.detection import fasterrcnn_resnet50_fpn\n",
    "# from torchvision.models.detection import fasterrcnn_resnet50_fpn_v2, FasterRCNN_ResNet50_FPN_V2_Weights\n",
    "from torchvision.transforms import ToTensor\n",
    "from torchvision.datasets import VOCDetection\n",
    "from torch.utils.data import DataLoader\n",
    "from torchvision.utils import draw_bounding_boxes"
   ]
  },
  {
   "cell_type": "code",
   "execution_count": null,
   "id": "ab3563b0-e0cd-413d-8945-94f0fa7fd15e",
   "metadata": {},
   "outputs": [],
   "source": [
    "# 设置训练和测试的参数\n",
    "num_classes = 21  # VOC数据集中的物体类别数量（包括背景）\n",
    "batch_size = 2\n",
    "num_epochs = 10"
   ]
  },
  {
   "cell_type": "code",
   "execution_count": null,
   "id": "11ab21a1-ec3c-4505-8985-43a15991d163",
   "metadata": {},
   "outputs": [],
   "source": [
    "# 加载VOC数据集\n",
    "train_dataset = VOCDetection(root='./', year='2007', image_set='train',download=True, transform=ToTensor())\n",
    "test_dataset = VOCDetection(root='./', year='2007', image_set='test', download=True,transform=ToTensor())"
   ]
  },
  {
   "cell_type": "code",
   "execution_count": null,
   "id": "7ab8313b-6057-4be4-b735-cca1b30c4b59",
   "metadata": {},
   "outputs": [],
   "source": [
    "# 创建数据加载器\n",
    "train_loader = DataLoader(train_dataset, batch_size=batch_size, shuffle=True, num_workers=0)\n",
    "test_loader = DataLoader(test_dataset, batch_size=1)"
   ]
  },
  {
   "cell_type": "code",
   "execution_count": null,
   "id": "73904e26-2797-4519-ac86-c00c0f8d9fb8",
   "metadata": {},
   "outputs": [],
   "source": [
    "# 定义模型\n",
    "model = fasterrcnn_resnet50_fpn(pretrained=False,num_classes=num_classes)"
   ]
  },
  {
   "cell_type": "code",
   "execution_count": null,
   "id": "ade8482f-e0bf-43ad-a4df-dada46e01e49",
   "metadata": {},
   "outputs": [],
   "source": [
    "# 定义优化器和学习率调度器\n",
    "optimizer = torch.optim.SGD(model.parameters(), lr=0.005, momentum=0.9, weight_decay=0.0005)\n",
    "lr_scheduler = torch.optim.lr_scheduler.StepLR(optimizer, step_size=3, gamma=0.1)"
   ]
  },
  {
   "cell_type": "code",
   "execution_count": null,
   "id": "f697cc75-5417-4fe5-8132-4a557a271987",
   "metadata": {},
   "outputs": [],
   "source": [
    "# 训练模型\n",
    "device = torch.device('cuda' if torch.cuda.is_available() else 'cpu')\n",
    "model.to(device)\n",
    "model.train()\n",
    "\n",
    "for epoch in range(num_epochs):\n",
    "    for i,(images, targets) in enumerate(train_loader, 0):\n",
    "\n",
    "        images = [image.to(device) for image in images]\n",
    "        targets = [{k: v.to(device) for k, v in t.items()} for t in targets]\n",
    "\n",
    "        loss_dict = model(images, targets)\n",
    "        total_loss = sum(loss for loss in loss_dict.values())\n",
    "\n",
    "        optimizer.zero_grad()\n",
    "        total_loss.backward()\n",
    "        optimizer.step()\n",
    "\n",
    "    lr_scheduler.step()\n",
    "    print(f\"Epoch {epoch+1}/{num_epochs}, Loss: {total_loss.item()}\")"
   ]
  },
  {
   "cell_type": "code",
   "execution_count": null,
   "id": "8a870f92-4962-4471-9bec-9499943faae3",
   "metadata": {},
   "outputs": [],
   "source": [
    "# 测试模型并可视化proposal box\n",
    "model.eval()\n",
    "\n",
    "for i, (image, target) in enumerate(test_loader):\n",
    "    image = image.to(device)\n",
    "    with torch.no_grad():\n",
    "        proposals, _ = model.rpn(image.unsqueeze(0))\n",
    "\n",
    "    # 绘制proposal box\n",
    "    image = image.squeeze().permute(1, 2, 0)\n",
    "    image_with_proposals = draw_bounding_boxes(image, proposals[0][:, :4], width=2)\n",
    "    image_with_proposals = ToTensor()(image_with_proposals)  # 转换回Tensor格式以显示\n",
    "    image_with_proposals.show()"
   ]
  },
  {
   "cell_type": "code",
   "execution_count": null,
   "id": "1534de02-a7cb-4ebe-b2b8-dc638e87f49e",
   "metadata": {},
   "outputs": [],
   "source": [
    "import torch\n",
    "from torchvision.models.detection import fasterrcnn_resnet50_fpn\n",
    "from torchvision.transforms import ToTensor\n",
    "from torchvision.datasets import VOCDetection\n",
    "from torch.utils.data import DataLoader\n",
    "import torchvision.transforms.functional as F\n",
    "import matplotlib.pyplot as plt\n",
    "\n",
    "# 设置训练和测试的参数\n",
    "num_classes = 21  # VOC数据集中的物体类别数量（包括背景）\n",
    "batch_size = 2\n",
    "num_epochs = 10\n",
    "\n",
    "# 加载VOC数据集\n",
    "test_dataset = VOCDetection(root='/path/to/VOC_dataset', year='2007', image_set='test', transform=ToTensor())\n",
    "\n",
    "# 创建数据加载器\n",
    "test_loader = DataLoader(test_dataset, batch_size=1)\n",
    "\n",
    "# 加载预训练的Faster R-CNN模型\n",
    "model = fasterrcnn_resnet50_fpn(pretrained=True)\n",
    "model.eval()\n",
    "\n",
    "# 将模型移动到设备上\n",
    "device = torch.device('cuda' if torch.cuda.is_available() else 'cpu')\n",
    "model.to(device)\n",
    "\n",
    "# 迭代测试集并可视化proposal box\n",
    "for i, (image, target) in enumerate(test_loader):\n",
    "    images = [image.squeeze(0).to(device)]  # 将图像转移到设备上，并从大小为[1, 3, 500, 353]的张量中移除批次维度\n",
    "\n",
    "    with torch.no_grad():\n",
    "        predictions = model(images)  # 不传递目标框给模型\n",
    "\n",
    "    # 获取第一阶段的边界框\n",
    "    boxes = predictions[0]['boxes']\n",
    "\n",
    "    # 可视化图片和边界框\n",
    "    image = F.to_pil_image(image.squeeze(0).cpu())\n",
    "    plt.imshow(image)\n",
    "    ax = plt.gca()\n",
    "\n",
    "    for box in boxes:\n",
    "        xmin, ymin, xmax, ymax = box.tolist()\n",
    "        rect = plt.Rectangle((xmin, ymin), xmax - xmin, ymax - ymin, fill=False, edgecolor='r', linewidth=2)\n",
    "        ax.add_patch(rect)\n",
    "\n",
    "    plt.axis('off')\n",
    "    plt.show()\n",
    "\n",
    "    if i == 3:  # 仅可视化四张测试图像\n",
    "        break\n"
   ]
  },
  {
   "cell_type": "code",
   "execution_count": null,
   "id": "c3dd2ec7-96bc-412f-83dc-ebaa77899b86",
   "metadata": {},
   "outputs": [],
   "source": [
    "# 结果可视化\n",
    "images, targets= next(iter(train_data_loader))\n",
    "images = list(image.to(device) for image in images)\n",
    "targets = [{k: v.to(device) for k, v in t.items()} for t in targets]\n",
    "\n",
    "plt.figure(figsize=(20,20))\n",
    "for i, (image, target) in enumerate(zip(images, targets)):\n",
    "    plt.subplot(2,2, i+1)\n",
    "    boxes = targets[i]['boxes'].cpu().numpy().astype(np.int32)\n",
    "    sample = images[i].permute(1,2,0).cpu().numpy()\n",
    "    names = targets[i]['labels'].cpu().numpy().astype(np.int64)\n",
    "    for i,box in enumerate(boxes):\n",
    "        cv2.rectangle(sample,\n",
    "                      (box[0], box[1]),\n",
    "                      (box[2], box[3]),\n",
    "                      (0, 0, 220), 2)\n",
    "        cv2.putText(sample, classes[names[i]], (box[0],box[1]+15),cv2.FONT_HERSHEY_COMPLEX ,0.5,(0,220,0),1,cv2.LINE_AA)  \n",
    "\n",
    "    plt.axis('off')\n",
    "    plt.imshow(sample)\n",
    "    "
   ]
  }
 ],
 "metadata": {
  "kernelspec": {
   "display_name": "Python 3 (ipykernel)",
   "language": "python",
   "name": "python3"
  },
  "language_info": {
   "codemirror_mode": {
    "name": "ipython",
    "version": 3
   },
   "file_extension": ".py",
   "mimetype": "text/x-python",
   "name": "python",
   "nbconvert_exporter": "python",
   "pygments_lexer": "ipython3",
   "version": "3.9.13"
  }
 },
 "nbformat": 4,
 "nbformat_minor": 5
}
