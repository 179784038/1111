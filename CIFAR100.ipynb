{
 "cells": [
  {
   "cell_type": "code",
   "execution_count": null,
   "id": "6c743b25-64c8-49d6-a4f8-5956d30de74e",
   "metadata": {},
   "outputs": [],
   "source": [
    "import torch\n",
    "import torch.nn as nn\n",
    "import torch.optim as optim\n",
    "import torchvision\n",
    "import torchvision.transforms as transforms\n",
    "from torchvision.models import resnet18\n",
    "import numpy as np\n",
    "import matplotlib.pyplot as plt\n",
    "import random\n",
    "from torch.utils.tensorboard import SummaryWriter"
   ]
  },
  {
   "cell_type": "code",
   "execution_count": null,
   "id": "cb089738-2f66-40dd-a624-035ff144d58a",
   "metadata": {},
   "outputs": [],
   "source": [
    "# 定义数据增强方法：CutMix\n",
    "def cutmix_data(images, labels, alpha):\n",
    "    # 随机选择一个样本\n",
    "    indices = torch.randperm(images.size(0))\n",
    "    shuffled_images = images[indices]\n",
    "    shuffled_labels = labels[indices]\n",
    "\n",
    "    # 计算剪切区域的大小\n",
    "    lam = np.random.beta(alpha, alpha)\n",
    "    cut_w = int(images.size(2) * np.sqrt(1 - lam))\n",
    "    cut_h = int(images.size(3) * np.sqrt(1 - lam))\n",
    "\n",
    "    # 随机选择剪切区域的位置\n",
    "    cx = np.random.randint(images.size(2))\n",
    "    cy = np.random.randint(images.size(3))\n",
    "    x1 = np.clip(cx - cut_w // 2, 0, images.size(2))\n",
    "    x2 = np.clip(cx + cut_w // 2, 0, images.size(2))\n",
    "    y1 = np.clip(cy - cut_h // 2, 0, images.size(3))\n",
    "    y2 = np.clip(cy + cut_h // 2, 0, images.size(3))\n",
    "\n",
    "    # 剪切区域替换为随机样本的剪切区域\n",
    "    images[:, :, x1:x2, y1:y2] = shuffled_images[:, :, x1:x2, y1:y2]\n",
    "\n",
    "    # 计算新的标签\n",
    "    lam = 1 - ((x2 - x1) * (y2 - y1) / (images.size(2) * images.size(3)))\n",
    "    labels = (1 - lam) * labels + lam * shuffled_labels\n",
    "\n",
    "    return images, labels"
   ]
  },
  {
   "cell_type": "code",
   "execution_count": null,
   "id": "30eb719c-8cf5-4e68-9c24-87574828db7a",
   "metadata": {},
   "outputs": [],
   "source": [
    "# 定义数据增强方法：Cutout\n",
    "def cutout_data(images, labels, n_holes, length):\n",
    "    h = images.size(2)\n",
    "    w = images.size(3)\n",
    "\n",
    "    for _ in range(n_holes):\n",
    "        y = np.random.randint(h)\n",
    "        x = np.random.randint(w)\n",
    "\n",
    "        y1 = np.clip(y - length // 2, 0, h)\n",
    "        y2 = np.clip(y + length // 2, 0, h)\n",
    "        x1 = np.clip(x - length // 2, 0, w)\n",
    "        x2 = np.clip(x + length // 2, 0, w)\n",
    "\n",
    "        images[:, :, y1:y2, x1:x2] = 0\n",
    "\n",
    "    return images, labels"
   ]
  },
  {
   "cell_type": "code",
   "execution_count": null,
   "id": "90854eed-3002-4b22-87bf-319517064a03",
   "metadata": {},
   "outputs": [],
   "source": [
    "def mixup_data(images, labels, alpha):\n",
    "    # 随机选择另一个样本\n",
    "    indices = torch.randperm(images.size(0))\n",
    "    shuffled_images = images[indices]\n",
    "    shuffled_labels = labels[indices]\n",
    "\n",
    "    # 计算混合比例\n",
    "    lam = np.random.beta(alpha, alpha)\n",
    "    lam = max(lam, 1 - lam)\n",
    "\n",
    "    # 执行mixup\n",
    "    images = lam * images + (1 - lam) * shuffled_images\n",
    "    labels = lam * labels + (1 - lam) * shuffled_labels\n",
    "\n",
    "    return images, labels"
   ]
  },
  {
   "cell_type": "code",
   "execution_count": null,
   "id": "a72a6532-a4b3-42fc-983f-17a600ea91d6",
   "metadata": {},
   "outputs": [],
   "source": [
    "# 加载CIFAR-100数据集\n",
    "transform_train = transforms.Compose([\n",
    "    transforms.RandomCrop(32, padding=4),\n",
    "    transforms.RandomHorizontalFlip(),\n",
    "    transforms.ToTensor(),\n",
    "    transforms.Normalize(mean=[0.5, 0.5, 0.5], std=[0.5, 0.5, 0.5])\n",
    "])\n",
    "\n",
    "transform_test = transforms.Compose([\n",
    "    transforms.ToTensor(),\n",
    "    transforms.Normalize(mean=[0.5, 0.5, 0.5], std=[0.5, 0.5, 0.5])\n",
    "])\n",
    "\n",
    "trainset = torchvision.datasets.CIFAR100(root='./data', train=True,\n",
    "                                        download=True, transform=transform_train)\n",
    "trainloader = torch.utils.data.DataLoader(trainset, batch_size=batch_size,\n",
    "                                          shuffle=True, num_workers=2)\n",
    "\n",
    "testset = torchvision.datasets.CIFAR100(root='./data', train=False,\n",
    "                                       download=True, transform=transform_test)\n",
    "testloader = torch.utils.data.DataLoader(testset, batch_size=batch_size,\n",
    "                                         shuffle=False, num_workers=2)"
   ]
  },
  {
   "cell_type": "code",
   "execution_count": null,
   "id": "c9a4ee7c-c12d-4775-a3b1-1b05d63f23e9",
   "metadata": {},
   "outputs": [],
   "source": [
    "print('训练数据集数量：',trainloader.get_dataset_size())\n",
    "print('测试数据集数量：',len(testloader))"
   ]
  },
  {
   "cell_type": "code",
   "execution_count": null,
   "id": "cb8eb39e-4d22-41b1-be8c-862903aca117",
   "metadata": {},
   "outputs": [],
   "source": [
    "# 定义ResNet-18模型\n",
    "model = resnet18(pretrained=False, num_classes=100)"
   ]
  },
  {
   "cell_type": "code",
   "execution_count": null,
   "id": "50e1f354-5068-4759-ae3a-58d707e1de67",
   "metadata": {},
   "outputs": [],
   "source": [
    "# 设置随机种子以便结果可重现\n",
    "torch.manual_seed(42)\n",
    "np.random.seed(42)\n",
    "# 设置训练和测试的批处理大小\n",
    "batch_size = 64\n",
    "# 定义损失函数和优化器\n",
    "criterion = nn.CrossEntropyLoss()\n",
    "optimizer = optim.SGD(model.parameters(), lr=0.01, momentum=0.9, weight_decay=5e-4)"
   ]
  },
  {
   "cell_type": "code",
   "execution_count": null,
   "id": "f57d61c2-1198-4aed-ab64-bcc3a4d68c12",
   "metadata": {
    "tags": []
   },
   "outputs": [],
   "source": [
    "#创建 SummaryWriter 对象\n",
    "writer = SummaryWriter()\n",
    "# 训练模型\n",
    "device = torch.device(\"cuda\" if torch.cuda.is_available() else \"cpu\")\n",
    "model.to(device)\n",
    "\n",
    "num_epochs = 100\n",
    "\n",
    "for epoch in range(num_epochs):\n",
    "    model.train()\n",
    "    train_loss = 0\n",
    "    correct = 0\n",
    "    total = 0\n",
    "\n",
    "    for batch_idx, (inputs, targets) in enumerate(trainloader):\n",
    "        inputs, targets = inputs.to(device), targets.to(device)\n",
    "\n",
    "        # 使用CutMix数据增强\n",
    "        # inputs, targets = cutmix_data(inputs, targets, alpha=1.0)\n",
    "\n",
    "        # 使用Cutout数据增强\n",
    "        # inputs, targets = cutout_data(inputs, targets, n_holes=1, length=16)\n",
    "\n",
    "        # 使用Mixup数据增强\n",
    "        # inputs, targets = mixup_data(inputs, targets, alpha=1.0)\n",
    "\n",
    "        optimizer.zero_grad()\n",
    "        outputs = model(inputs)\n",
    "        loss = criterion(outputs, targets)\n",
    "        loss.backward()\n",
    "        optimizer.step()\n",
    "\n",
    "        train_loss += loss.item()\n",
    "        _, predicted = outputs.max(1)\n",
    "        total += targets.size(0)\n",
    "        correct += predicted.eq(targets).sum().item()\n",
    "        # 写入训练 loss 值到 Tensorboard\n",
    "        writer.add_scalar('Train/Loss', train_loss/(batch_idx+1), epoch)\n",
    "        # 写入训练准确率到 Tensorboard\n",
    "        train_accuracy = 100. * correct / total\n",
    "        writer.add_scalar('Train/Accuracy', train_accuracy, epoch)\n",
    "        if (batch_idx + 1) % 100 == 0:\n",
    "            print('Epoch [{}/{}], Step [{}/{}], Loss: {:.4f}, Accuracy: {:.2f}%'\n",
    "                  .format(epoch+1, num_epochs, batch_idx+1, len(trainloader),\n",
    "                          train_loss/(batch_idx+1), 100. * correct / total))"
   ]
  },
  {
   "cell_type": "code",
   "execution_count": null,
   "id": "0a4755aa-5832-4460-b049-d05eede963e2",
   "metadata": {},
   "outputs": [],
   "source": [
    "#保存模型\n",
    "torch.save(model, './baseline_ResNet-18')"
   ]
  },
  {
   "cell_type": "code",
   "execution_count": null,
   "id": "7bed6c8e-0533-43d3-a4f6-48ddec16d901",
   "metadata": {},
   "outputs": [],
   "source": [
    "# 测试模型\n",
    "model.eval()\n",
    "test_loss = 0\n",
    "test_correct = 0\n",
    "test_total = 0"
   ]
  },
  {
   "cell_type": "code",
   "execution_count": null,
   "id": "f842ad79-e08a-4b19-89bd-74e6e36c7cfa",
   "metadata": {},
   "outputs": [],
   "source": [
    "print(len(trainloader))\n",
    "print(len(testloader))"
   ]
  },
  {
   "cell_type": "code",
   "execution_count": null,
   "id": "ac48721e-3bd2-45fd-bec0-9d895a0b9eb0",
   "metadata": {},
   "outputs": [],
   "source": [
    "with torch.no_grad():\n",
    "    for inputs, targets in testloader:\n",
    "        inputs, targets = inputs.to(device), targets.to(device)\n",
    "        outputs = model(inputs)\n",
    "        loss = criterion(outputs, targets)\n",
    "        test_loss += loss.item()\n",
    "        _, predicted = outputs.max(1)\n",
    "        test_total += targets.size(0)\n",
    "        test_correct += predicted.eq(targets).sum().item()\n",
    "\n",
    "    print('Test Loss: {:.4f}, Test Accuracy: {:.2f}%'.format(test_loss / len(testloader),100. * test_correct / test_total))"
   ]
  },
  {
   "cell_type": "code",
   "execution_count": null,
   "id": "b5b241b4-6c67-448e-bb20-d04018e79841",
   "metadata": {
    "tags": []
   },
   "outputs": [],
   "source": [
    "# 可视化样本图像\n",
    "def imshow(img):\n",
    "    img = img / 2 + 0.5     # 反归一化\n",
    "    npimg = img.numpy()\n",
    "    plt.imshow(np.transpose(npimg, (1, 2, 0)))\n",
    "    plt.axis('off')\n",
    "    plt.show()"
   ]
  },
  {
   "cell_type": "code",
   "execution_count": null,
   "id": "d787bb82-95d1-4365-8421-1a2d75e52c76",
   "metadata": {},
   "outputs": [],
   "source": [
    "# # 获取样本数据\n",
    "# 加载三张训练样本\n",
    "sample_loader = torch.utils.data.DataLoader(trainset, batch_size=3, shuffle=True, num_workers=2)\n",
    "example_data, example_targets = next(iter(sample_loader))\n",
    "# example_data = example_data.to(device)\n",
    "# # 获取样本和标签\n",
    "# samples, labels = next(iter(sample_loader))\n",
    "# # samples = samples.to(device)\n",
    "# examples = enumerate(trainloader)\n",
    "# batch_idx, (example_data, example_targets) = next(examples)\n",
    "\n",
    "# 将样本数据进行cutmix处理\n",
    "cutmix_images, cutmix_labels = cutmix_data(example_data.clone(), example_targets.clone(), alpha=1.0)\n",
    "\n",
    "# 将样本数据进行cutout处理\n",
    "cutout_images, cutout_labels = cutout_data(example_data.clone(), example_targets.clone(), n_holes=1, length=16)\n",
    "\n",
    "# 将样本数据进行mixup处理\n",
    "mixup_images, mixup_labels = mixup_data(example_data.clone(), example_targets.clone(), alpha=1.0)"
   ]
  },
  {
   "cell_type": "code",
   "execution_count": null,
   "id": "53c499ff-bcd8-4acb-882c-7f46b6e60242",
   "metadata": {},
   "outputs": [],
   "source": [
    "print(\"Original Images:\")\n",
    "imshow(torchvision.utils.make_grid(example_data))\n",
    "print(\"CutMix Images:\")\n",
    "imshow(torchvision.utils.make_grid(cutmix_images))\n",
    "print(\"Cutout Images:\")\n",
    "imshow(torchvision.utils.make_grid(cutout_images))\n",
    "print(\"Mixup Images:\")\n",
    "imshow(torchvision.utils.make_grid(mixup_images))"
   ]
  },
  {
   "cell_type": "code",
   "execution_count": null,
   "id": "2e5a6af4-fdb9-4f7c-91a9-8b782524fc49",
   "metadata": {},
   "outputs": [],
   "source": []
  }
 ],
 "metadata": {
  "kernelspec": {
   "display_name": "Python 3 (ipykernel)",
   "language": "python",
   "name": "python3"
  },
  "language_info": {
   "codemirror_mode": {
    "name": "ipython",
    "version": 3
   },
   "file_extension": ".py",
   "mimetype": "text/x-python",
   "name": "python",
   "nbconvert_exporter": "python",
   "pygments_lexer": "ipython3",
   "version": "3.9.13"
  }
 },
 "nbformat": 4,
 "nbformat_minor": 5
}
